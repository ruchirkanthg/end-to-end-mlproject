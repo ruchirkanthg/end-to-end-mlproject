{
 "cells": [
  {
   "cell_type": "code",
   "execution_count": 2,
   "metadata": {},
   "outputs": [
    {
     "data": {
      "text/plain": [
       "'/Users/ruchirkanthgandikota/Documents/ML Projects/Wine Quality/end-to-end-mlproject'"
      ]
     },
     "execution_count": 2,
     "metadata": {},
     "output_type": "execute_result"
    }
   ],
   "source": [
    "import os \n",
    "os.chdir(\"/Users/ruchirkanthgandikota/Documents/ML Projects/Wine Quality/end-to-end-mlproject\")\n",
    "%pwd"
   ]
  },
  {
   "cell_type": "code",
   "execution_count": 3,
   "metadata": {},
   "outputs": [],
   "source": [
    "from dataclasses import dataclass\n",
    "from pathlib import Path\n",
    "\n",
    "\n",
    "@dataclass(frozen=True)\n",
    "class TransformationConfig:\n",
    "    root_dir: Path\n",
    "    data_path: Path"
   ]
  },
  {
   "cell_type": "code",
   "execution_count": 4,
   "metadata": {},
   "outputs": [],
   "source": [
    "from mlproject.constants import *\n",
    "from mlproject.utils.common import read_yaml, create_directories"
   ]
  },
  {
   "cell_type": "code",
   "execution_count": 5,
   "metadata": {},
   "outputs": [],
   "source": [
    "class ConfigurationManager:\n",
    "    def __init__(\n",
    "        self,\n",
    "        config_filepath = CONFIG_FILE_PATH,\n",
    "        params_filepath = PARAMS_FILE_PATH,\n",
    "        schema_filepath = SCHEMA_FILE_PATH):\n",
    "\n",
    "        self.config = read_yaml(config_filepath)\n",
    "        self.params = read_yaml(params_filepath)\n",
    "        self.schema = read_yaml(schema_filepath)\n",
    "\n",
    "        create_directories([self.config.artifacts_root])\n",
    "\n",
    "\n",
    "    \n",
    "    def get_data_transformation_config(self) -> TransformationConfig:\n",
    "        config = self.config.data_transformation\n",
    "\n",
    "        create_directories([config.root_dir])\n",
    "\n",
    "        data_transformation_config = TransformationConfig(\n",
    "            root_dir=config.root_dir,\n",
    "            data_path=config.data_path,\n",
    "        )\n",
    "\n",
    "        return data_transformation_config"
   ]
  },
  {
   "cell_type": "code",
   "execution_count": 6,
   "metadata": {},
   "outputs": [],
   "source": [
    "import os\n",
    "from mlproject import logger\n",
    "from sklearn.model_selection import train_test_split\n",
    "import pandas as pd"
   ]
  },
  {
   "cell_type": "code",
   "execution_count": null,
   "metadata": {},
   "outputs": [],
   "source": [
    "class DataTransformation:\n",
    "    def __init__(self, config: TransformationConfig):\n",
    "        self.config = config\n",
    "\n",
    "    def convert_target_variable(self):\n",
    "        data = pd.read_csv(self.config.data_path)\n",
    "        # data['quality'] = data['quality'].apply(lambda x: 1 if x >= 7 else 0)\n",
    "        return data\n",
    "    \n",
    "    def handle_outliers_iqr(df):\n",
    "    # Copy the DataFrame to avoid modifying the original\n",
    "        df_cleaned = df.copy()\n",
    "        \n",
    "        # Loop through each numerical column\n",
    "        for column in df_cleaned.columns[:-1]:  # Exclude 'quality' since it's the target\n",
    "            Q1 = df_cleaned[column].quantile(0.25)\n",
    "            Q3 = df_cleaned[column].quantile(0.75)\n",
    "            IQR = Q3 - Q1\n",
    "            \n",
    "            # Define bounds for outliers\n",
    "            lower_bound = Q1 - 1.5 * IQR\n",
    "            upper_bound = Q3 + 1.5 * IQR\n",
    "            \n",
    "            # Replace outliers with the median\n",
    "            median = df_cleaned[column].median()\n",
    "            df_cleaned[column] = df_cleaned[column].apply(\n",
    "                lambda x: median if (x < lower_bound or x > upper_bound) else x\n",
    "            )\n",
    "        \n",
    "        df_cleaned['quality'] = df['quality']\n",
    "        return df_cleaned\n",
    "\n",
    "\n",
    "\n",
    "    def train_test_spliting(self, data):\n",
    "\n",
    "        # Split the data into training and test sets. (0.75, 0.25) split.\n",
    "        train, test = train_test_split(data)\n",
    "\n",
    "        train.to_csv(os.path.join(self.config.root_dir, \"train.csv\"),index = False)\n",
    "        test.to_csv(os.path.join(self.config.root_dir, \"test.csv\"),index = False)\n",
    "\n",
    "        logger.info(\"Splited data into training and test sets\")\n",
    "        logger.info(train.shape)\n",
    "        logger.info(test.shape)\n",
    "\n",
    "        print(train.shape)\n",
    "        print(test.shape)\n",
    "        "
   ]
  },
  {
   "cell_type": "code",
   "execution_count": null,
   "metadata": {},
   "outputs": [
    {
     "name": "stdout",
     "output_type": "stream",
     "text": [
      "[2025-02-14 12:16:19,078: INFO: common: yaml file: config/config.yml loaded successfully]\n",
      "[2025-02-14 12:16:19,079: INFO: common: yaml file: params.yaml loaded successfully]\n",
      "[2025-02-14 12:16:19,079: INFO: common: yaml file: schema.yaml loaded successfully]\n",
      "[2025-02-14 12:16:19,080: INFO: common: created directory at: artifacts]\n",
      "[2025-02-14 12:16:19,080: INFO: common: created directory at: artifacts/data_transformation]\n",
      "[2025-02-14 12:16:19,091: INFO: 4076011688: Splited data into training and test sets]\n",
      "[2025-02-14 12:16:19,092: INFO: 4076011688: (1199, 12)]\n",
      "[2025-02-14 12:16:19,092: INFO: 4076011688: (400, 12)]\n",
      "(1199, 12)\n",
      "(400, 12)\n"
     ]
    }
   ],
   "source": [
    "try:\n",
    "    config = ConfigurationManager()\n",
    "    data_transformation_config = config.get_data_transformation_config()\n",
    "    data_transformation = DataTransformation(config=data_transformation_config)\n",
    "    data = data_transformation.convert_target_variable\n",
    "    data = data_transformation.handle_outliers_iqr(data)\n",
    "    data_transformation.train_test_spliting(data)\n",
    "except Exception as e:\n",
    "    raise e"
   ]
  }
 ],
 "metadata": {
  "kernelspec": {
   "display_name": "venv",
   "language": "python",
   "name": "python3"
  },
  "language_info": {
   "codemirror_mode": {
    "name": "ipython",
    "version": 3
   },
   "file_extension": ".py",
   "mimetype": "text/x-python",
   "name": "python",
   "nbconvert_exporter": "python",
   "pygments_lexer": "ipython3",
   "version": "3.13.2"
  }
 },
 "nbformat": 4,
 "nbformat_minor": 2
}
